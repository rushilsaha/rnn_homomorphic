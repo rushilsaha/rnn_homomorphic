{
 "cells": [
  {
   "cell_type": "code",
   "execution_count": 1,
   "id": "906f93fe",
   "metadata": {},
   "outputs": [],
   "source": [
    "#Code adapted from example here: https://medium.com/zama-ai/homomorphic-rnns-with-numpy-and-concrete-ed890402ab86\n",
    "import hnumpy as hnp\n",
    "import io\n",
    "import numpy as np\n",
    "import pathlib\n",
    "import pickle\n",
    "import re\n",
    "import timeit\n",
    "import torch\n",
    "import urllib\n",
    "import zipfile"
   ]
  },
  {
   "cell_type": "code",
   "execution_count": 3,
   "id": "fab2b4c6",
   "metadata": {},
   "outputs": [],
   "source": [
    "with open(\"embeddings.pickle\", \"rb\") as file:\n",
    "    embeddings = pickle.load(file)\n",
    "    embed = lambda tokens: embeddings[\"data\"][[embeddings[\"indices\"][token] for token in tokens], :]"
   ]
  },
  {
   "cell_type": "code",
   "execution_count": 4,
   "id": "40c85775",
   "metadata": {},
   "outputs": [
    {
     "name": "stdout",
     "output_type": "stream",
     "text": [
      "11196\n"
     ]
    }
   ],
   "source": [
    "index = embeddings[\"indices\"][\"encryption\"]\n",
    "print(index)"
   ]
  },
  {
   "cell_type": "code",
   "execution_count": 5,
   "id": "d3b28b03",
   "metadata": {},
   "outputs": [
    {
     "name": "stdout",
     "output_type": "stream",
     "text": [
      "[-5.000e-03 -1.992e-01 -4.550e-02  1.454e-01 -1.571e-01 -2.310e-02\n",
      "  1.353e-01 -1.410e-01 -4.920e-02  1.590e-02  1.834e-01 -1.863e-01\n",
      "  5.220e-02  4.200e-02 -6.340e-02  1.412e-01 -3.682e-01 -9.100e-02\n",
      " -2.147e-01  1.527e-01 -5.660e-01  4.370e-02 -1.274e-01  2.398e-01\n",
      "  1.387e-01 -8.950e-02  1.634e-01 -1.001e-01  1.094e-01  4.300e-02\n",
      " -1.049e-01  1.742e-01 -1.222e-01 -2.710e-02 -1.227e-01  5.100e-02\n",
      " -9.210e-02  4.490e-02  6.960e-02  3.200e-02  4.250e-02 -2.030e-02\n",
      "  1.830e-01  2.036e-01 -8.450e-02  6.350e-02 -6.380e-02  9.720e-02\n",
      "  1.447e-01 -6.450e-02 -7.830e-02 -8.050e-02 -8.305e-01  1.572e-01\n",
      "  3.028e-01 -3.560e-02  3.350e-01 -1.540e-01 -1.980e-02  1.585e-01\n",
      "  1.698e-01 -1.545e-01  3.230e-02 -2.000e-03 -2.580e-01 -5.160e-02\n",
      "  2.900e-02  8.570e-02  1.540e-02 -1.833e-01 -1.032e-01  1.003e-01\n",
      "  6.960e-02  8.000e-04 -7.060e-02 -1.465e-01  1.549e-01 -1.060e-01\n",
      "  1.040e-02  1.298e-01  1.740e-02 -1.158e-01 -1.030e-01 -1.747e-01\n",
      " -1.668e-01 -1.496e-01 -6.450e-02  2.748e-01  2.840e-01 -1.840e-01\n",
      " -5.100e-03 -2.194e-01 -2.440e-02 -5.340e-02  2.210e-02  1.037e-01\n",
      " -3.439e-01 -5.830e-02  1.709e-01 -2.740e-02 -1.395e-01 -2.033e-01\n",
      "  2.498e-01  9.100e-03 -2.720e-02 -1.573e-01 -1.546e-01  6.660e-02\n",
      " -7.500e-03  1.300e-01 -1.310e-02 -3.000e-02  1.650e-02 -1.686e-01\n",
      "  1.088e-01  5.640e-02  1.078e-01 -1.333e-01 -1.430e-01 -2.658e-01\n",
      "  2.405e-01  5.600e-02  6.300e-03  1.589e-01 -8.510e-02  1.685e-01\n",
      " -2.332e-01  4.790e-02  2.050e-02  6.180e-02  5.860e-02  1.556e-01\n",
      " -1.377e-01 -2.350e-02  4.220e-02  1.022e-01  1.663e-01  1.437e-01\n",
      " -1.180e-02  1.195e-01 -2.260e-02 -4.500e-03 -7.420e-02  5.570e-02\n",
      " -2.050e-02 -4.070e-02 -1.196e-01  5.500e-02 -4.800e-03  4.220e-02\n",
      "  1.000e-03  5.870e-02  1.634e-01  1.805e-01  1.600e-03  4.740e-02\n",
      " -1.991e-01  1.540e-02  4.370e-02  2.750e-02 -1.118e-01  2.210e-02\n",
      "  2.326e-01  1.332e-01  9.560e-02  1.490e-02  8.550e-02  4.000e-02\n",
      "  1.199e-01 -1.496e-01  4.890e-02 -6.840e-02 -9.200e-03  5.920e-02\n",
      " -3.540e-02 -9.180e-02  2.917e-01 -2.473e-01  2.720e-01 -1.320e-02\n",
      " -1.210e-02  3.250e-02  7.240e-02 -8.420e-02 -8.700e-02 -4.560e-02\n",
      " -5.400e-03 -1.391e-01 -3.270e-01 -6.790e-02 -1.556e-01  1.231e-01\n",
      " -1.687e-01 -1.670e-01 -2.046e-01 -2.863e-01 -8.480e-02  2.076e-01\n",
      "  1.447e-01  5.830e-02  6.620e-02  5.100e-02 -1.533e-01 -1.760e-01\n",
      "  1.182e-01 -1.178e-01  7.000e-04  1.724e-01  4.800e-03 -1.866e-01\n",
      " -4.570e-02  1.180e-01 -1.260e-01  1.274e-01 -5.030e-02 -1.186e-01\n",
      "  2.120e-02  1.171e-01 -1.070e-01 -6.510e-02  8.620e-02 -1.402e-01\n",
      "  1.820e-02  8.590e-02  9.640e-02 -3.413e-01 -2.410e-01 -9.130e-02\n",
      "  3.730e-02 -1.230e-01  9.580e-02 -4.100e-02  2.151e-01 -1.131e-01\n",
      " -2.400e-03 -7.830e-02 -2.764e-01 -1.567e-01 -1.798e-01  2.180e-02\n",
      "  6.140e-02 -1.444e-01 -1.564e-01  1.650e-01 -1.320e-01 -9.700e-02\n",
      " -1.939e-01 -1.147e-01  3.385e-01  4.218e-01 -9.350e-02 -1.003e-01\n",
      " -1.346e-01  6.890e-02 -1.030e-01 -1.403e-01  5.750e-02 -9.700e-03\n",
      " -8.440e-02  3.740e-02  7.500e-02  6.410e-02  5.270e-02  2.636e-01\n",
      " -4.003e-01 -5.600e-03  5.190e-02 -1.253e-01 -1.039e-01 -1.089e-01\n",
      " -1.320e-01 -1.428e-01 -1.230e-02 -3.480e-02 -1.166e-01  1.345e-01\n",
      " -1.384e-01  2.770e-01  2.362e-01 -2.601e-01 -9.780e-02  2.020e-02\n",
      "  3.340e-02  1.335e-01 -3.140e-02  1.038e-01  1.322e-01  1.197e-01\n",
      "  9.370e-02 -5.760e-02 -1.250e-02 -1.961e-01 -6.100e-03  5.210e-02\n",
      " -2.114e-01  1.377e-01  2.731e-01 -4.240e-02  2.360e-02 -5.880e-02]\n"
     ]
    }
   ],
   "source": [
    "embedding = embeddings[\"data\"][index, :]\n",
    "print(embedding)"
   ]
  },
  {
   "cell_type": "code",
   "execution_count": 6,
   "id": "c2a1ccdc",
   "metadata": {},
   "outputs": [],
   "source": [
    "words_to_ignore = []\n",
    "for word, index in embeddings[\"indices\"].items():\n",
    "    embedding = embeddings[\"data\"][index, :]\n",
    "    if embedding.min() < -1 or embedding.max() > 1:\n",
    "        words_to_ignore.append(word)\n",
    "for word in words_to_ignore:\n",
    "    del embeddings[\"indices\"][word]"
   ]
  },
  {
   "cell_type": "code",
   "execution_count": 7,
   "id": "f1a849ac",
   "metadata": {},
   "outputs": [],
   "source": [
    "def encode(sentence):\n",
    "    sentence = sentence.strip().lower()\n",
    "    sentence = re.sub(r\"[^\\w\\s]\", ' ', sentence)\n",
    "    sentence = re.sub(r\"\\s+\", ' ', sentence)\n",
    "    return embed(filter(lambda token: token != \"\", sentence.split(' ')))"
   ]
  },
  {
   "cell_type": "code",
   "execution_count": 8,
   "id": "f73463e2",
   "metadata": {},
   "outputs": [
    {
     "data": {
      "text/plain": [
       "(3, 300)"
      ]
     },
     "execution_count": 8,
     "metadata": {},
     "output_type": "execute_result"
    }
   ],
   "source": [
    "encode(\"i like cookies\").shape"
   ]
  },
  {
   "cell_type": "code",
   "execution_count": 9,
   "id": "8047bde9",
   "metadata": {},
   "outputs": [],
   "source": [
    "DATASET_PATHS = [\"amazon.txt\", \"imdb.txt\", \"yelp.txt\"]\n",
    "\n",
    "DATASET = []\n",
    "for path in DATASET_PATHS:\n",
    "    with open(path, \"r\") as file:\n",
    "        for line in file:\n",
    "            [line, orientation] = line.strip().split('\\t')\n",
    "            try:\n",
    "                DATASET.append((encode(line), float(orientation)))\n",
    "            except:\n",
    "                pass"
   ]
  },
  {
   "cell_type": "code",
   "execution_count": 10,
   "id": "63bda933",
   "metadata": {},
   "outputs": [
    {
     "name": "stdout",
     "output_type": "stream",
     "text": [
      "(array([[-0.0154, -0.002 , -0.0725, ...,  0.1858,  0.105 , -0.0423],\n",
      "       [-0.0424,  0.007 , -0.1028, ...,  0.2318, -0.01  ,  0.0948],\n",
      "       [ 0.0156,  0.0752, -0.078 , ...,  0.0882, -0.0882, -0.0096],\n",
      "       ...,\n",
      "       [ 0.0242, -0.0265,  0.0822, ...,  0.0831, -0.0466,  0.0315],\n",
      "       [ 0.0047,  0.0223, -0.0087, ...,  0.1479,  0.1324, -0.0318],\n",
      "       [-0.0582, -0.1396, -0.045 , ...,  0.0076,  0.0079,  0.0541]]), 0.0)\n"
     ]
    }
   ],
   "source": [
    "print(DATASET[0])"
   ]
  },
  {
   "cell_type": "code",
   "execution_count": 11,
   "id": "843794b1",
   "metadata": {},
   "outputs": [
    {
     "name": "stdout",
     "output_type": "stream",
     "text": [
      "2677\n"
     ]
    }
   ],
   "source": [
    "print(len(DATASET))"
   ]
  },
  {
   "cell_type": "code",
   "execution_count": 12,
   "id": "fcaa9fe7",
   "metadata": {},
   "outputs": [],
   "source": [
    "HIDDEN_SIZE = 100\n",
    "\n",
    "class Model(torch.nn.Module):\n",
    "    def __init__(self):\n",
    "        super().__init__()\n",
    "\n",
    "        self.rnn = torch.nn.RNN(input_size=300, hidden_size=HIDDEN_SIZE)\n",
    "        self.fc = torch.nn.Linear(HIDDEN_SIZE, 1)\n",
    "        self.sigmoid = torch.nn.Sigmoid()\n",
    "\n",
    "    def forward(self, x):\n",
    "        _, x = self.rnn(x)\n",
    "        x = self.fc(x)\n",
    "        return self.sigmoid(x)"
   ]
  },
  {
   "cell_type": "code",
   "execution_count": 13,
   "id": "3064a7da",
   "metadata": {},
   "outputs": [
    {
     "name": "stdout",
     "output_type": "stream",
     "text": [
      "Epoch 1 is completed...\n",
      "Epoch 2 is completed...\n",
      "Epoch 3 is completed...\n",
      "Epoch 4 is completed...\n",
      "Epoch 5 is completed...\n",
      "Epoch 6 is completed...\n",
      "Epoch 7 is completed...\n",
      "Epoch 8 is completed...\n",
      "Epoch 9 is completed...\n",
      "Epoch 10 is completed...\n"
     ]
    },
    {
     "data": {
      "text/plain": [
       "Model(\n",
       "  (rnn): RNN(300, 100)\n",
       "  (fc): Linear(in_features=100, out_features=1, bias=True)\n",
       "  (sigmoid): Sigmoid()\n",
       ")"
      ]
     },
     "execution_count": 13,
     "metadata": {},
     "output_type": "execute_result"
    }
   ],
   "source": [
    "LEARNING_RATE = 0.001\n",
    "EPOCHS = 10\n",
    "\n",
    "model = Model()\n",
    "\n",
    "optimizer = torch.optim.Adam(model.parameters(), lr=LEARNING_RATE)\n",
    "criterion = torch.nn.MSELoss()\n",
    "\n",
    "model.train()\n",
    "for i in range(EPOCHS):\n",
    "    for sentence, score in DATASET:\n",
    "        x = torch.tensor(sentence.reshape(-1, 1, 300))\n",
    "        prediction = model(x.float())\n",
    "\n",
    "        optimizer.zero_grad()\n",
    "        loss = criterion(prediction, torch.tensor([[[score]]]).float())\n",
    "\n",
    "        loss.backward()\n",
    "        optimizer.step()\n",
    "\n",
    "    print(\"Epoch\", i + 1, \"is completed...\", flush=True)\n",
    "model.eval()"
   ]
  },
  {
   "cell_type": "code",
   "execution_count": 14,
   "id": "55b84568",
   "metadata": {},
   "outputs": [],
   "source": [
    "class Inferer:\n",
    "    def __init__(self, model):\n",
    "        rnn = model.rnn\n",
    "        \n",
    "        self.W_ih = rnn.weight_ih_l0.detach().numpy()\n",
    "        self.W_hh = rnn.weight_hh_l0.detach().numpy()\n",
    "        self.b_ih = rnn.bias_ih_l0.detach().numpy()\n",
    "        self.b_hh = rnn.bias_hh_l0.detach().numpy()\n",
    "        \n",
    "        self.W = model.fc.weight.detach().numpy().T\n",
    "        self.b = model.fc.bias.detach().numpy()\n",
    "\n",
    "    def infer(self, x):\n",
    "        h_t = np.zeros(HIDDEN_SIZE)\n",
    "        for i in range(x.shape[0]):\n",
    "            x_t = x[i]\n",
    "            h_t = self.rnn_cell(x_t, h_t)\n",
    "\n",
    "        r = np.dot(h_t, self.W) + self.b\n",
    "        return self.sigmoid(r)\n",
    "\n",
    "    def rnn_cell(self, x_t, h_tm1):\n",
    "        h_t = np.tanh(\n",
    "            np.dot(self.W_ih, x_t) + self.b_ih + np.dot(self.W_hh, h_tm1) + self.b_hh\n",
    "        )\n",
    "        return h_t\n",
    "\n",
    "    @staticmethod\n",
    "    def sigmoid(x):\n",
    "        return 1 / (1 + np.exp(-x))"
   ]
  },
  {
   "cell_type": "code",
   "execution_count": 15,
   "id": "793aa7d4",
   "metadata": {},
   "outputs": [
    {
     "name": "stderr",
     "output_type": "stream",
     "text": [
      "2024-04-22 00:05:29.439 | INFO     | hnumpy.convert:compile_fhe:381 - Compiling infer into an FHE function\n",
      "2024-04-22 00:05:29.442 | INFO     | hnumpy.convert:compile_fhe:383 - Checking input and output\n",
      "2024-04-22 00:05:29.450 | INFO     | hnumpy.convert:compile_homomorphic:265 - Create target graph\n",
      "2024-04-22 00:05:29.454 | INFO     | hnumpy.convert:compile_homomorphic:270 - Optimize target graph with optimizer `handselected`\n",
      "2024-04-22 00:05:29.561 | INFO     | hnumpy.convert:compile_homomorphic:284 - Correct encoding\n",
      "2024-04-22 00:05:29.564 | INFO     | hnumpy.convert:compile_homomorphic:290 - Create VM graph\n",
      "2024-04-22 00:05:29.568 | INFO     | hnumpy.convert:compile_homomorphic:306 - Return the result to the caller\n",
      "2024-04-22 00:05:29.571 | INFO     | hnumpy.client:keygen:28 - Creating 0 keyswitching key(s) and 1 bootstrapping key(s). This should take approximately 30 seconds (0.5 minutes)\n",
      "2024-04-22 00:11:24.345 | DEBUG    | hnumpy.client:keygen:42 - Key creation time took 354.773664756 seconds\n"
     ]
    },
    {
     "name": "stdout",
     "output_type": "stream",
     "text": [
      "\n",
      "Target graph has 73 nodes and 15 of them are PBS...\n"
     ]
    }
   ],
   "source": [
    "SENTENCE_LENGTH_LIMIT = 5\n",
    "\n",
    "inferer = Inferer(model)\n",
    "homomorphic_inferer = hnp.compile_fhe(\n",
    "    inferer.infer,\n",
    "    {\n",
    "        \"x\": hnp.encrypted_ndarray(bounds=(-1, 1), shape=(SENTENCE_LENGTH_LIMIT, 300))\n",
    "    },\n",
    "    config=hnp.config.CompilationConfig(\n",
    "        parameter_optimizer=\"handselected\",\n",
    "        apply_topological_optimizations=True,\n",
    "        probabilistic_bounds=6,\n",
    "    ),\n",
    ")\n",
    "\n",
    "context = homomorphic_inferer.create_context()\n",
    "keys = context.keygen()\n",
    "\n",
    "operations = homomorphic_inferer.operation_count()\n",
    "pbses = homomorphic_inferer.pbs_count()\n",
    "\n",
    "print(\"\\nTarget graph has\", operations, \"nodes and\", pbses, \"of them are PBS...\")"
   ]
  },
  {
   "cell_type": "code",
   "execution_count": 17,
   "id": "e1d5cc0e",
   "metadata": {},
   "outputs": [],
   "source": [
    "def evaluate(sentence):\n",
    "    try:\n",
    "        embedded = encode(sentence)\n",
    "    except KeyError as error:\n",
    "        print(\"! the word\", error, \"is unknown\")\n",
    "        return\n",
    "\n",
    "    if embedded.shape[0] > SENTENCE_LENGTH_LIMIT:\n",
    "        print(f\"! the sentence should not contain more than {SENTENCE_LENGTH_LIMIT} tokens\")\n",
    "        return\n",
    "\n",
    "    padded = np.zeros((SENTENCE_LENGTH_LIMIT, 300))\n",
    "    padded[SENTENCE_LENGTH_LIMIT - embedded.shape[0]:, :] = embedded\n",
    "\n",
    "    original = model(torch.tensor(padded.reshape((-1, 1, 300))).float()).detach().numpy()[0, 0, 0]\n",
    "    simulated = homomorphic_inferer.simulate(padded)[0]\n",
    "\n",
    "    start = timeit.default_timer()\n",
    "\n",
    "    actual = homomorphic_inferer.simulate(padded)[0]\n",
    "    end = timeit.default_timer()\n",
    "\n",
    "    if actual < 0.35:\n",
    "        print(\"- the sentence was negative\", end=' ')\n",
    "    elif actual > 0.65:\n",
    "        print(\"+ the sentence was positive\", end=' ')\n",
    "    else:\n",
    "        print(\"~ the sentence was neutral\", end=' ')\n",
    "\n",
    "    print(\n",
    "        f\"(\"\n",
    "        f\"original: {original * 100:.2f}%, \"\n",
    "        f\"simulated: {simulated * 100:.2f}%, \"\n",
    "        f\"actual: {actual * 100:.2f}%, \"\n",
    "        f\"difference: {np.abs(original - actual) * 100:.2f}%, \"\n",
    "        f\"took: {end - start:.3f} seconds\"\n",
    "        f\")\"\n",
    "    )"
   ]
  },
  {
   "cell_type": "code",
   "execution_count": 34,
   "id": "6564b430",
   "metadata": {
    "scrolled": true
   },
   "outputs": [
    {
     "name": "stdout",
     "output_type": "stream",
     "text": [
      "Accuracy rate for Simulated Model: 70.34%\n",
      "Accuracy rate for Original Model: 70.13%\n"
     ]
    },
    {
     "data": {
      "image/png": "[encoded data removed]",
      "text/plain": [
       "<Figure size 432x288 with 2 Axes>"
      ]
     },
     "metadata": {
      "needs_background": "light"
     },
     "output_type": "display_data"
    },
    {
     "data": {
      "image/png": "[encoded data removed]",
      "text/plain": [
       "<Figure size 432x288 with 2 Axes>"
      ]
     },
     "metadata": {
      "needs_background": "light"
     },
     "output_type": "display_data"
    }
   ],
   "source": [
    "import pandas as pd\n",
    "import numpy as np\n",
    "import timeit\n",
    "import itertools\n",
    "import matplotlib.pyplot as plt\n",
    "\n",
    "restaurant_reviews_df = pd.read_csv('restaurant_reviews_updated.csv')\n",
    "\n",
    "prediction_stats_simulated = [0, 0, 0, 0]  \n",
    "prediction_stats_original = [0, 0, 0, 0]  \n",
    "difference_total = 0\n",
    "time_total = 0\n",
    "\n",
    "def evaluate(sentence, actual_rating):\n",
    "    global difference_total, time_total\n",
    "    \n",
    "    try:\n",
    "        embedded = encode(sentence)\n",
    "    except KeyError as error:\n",
    "        return\n",
    "\n",
    "    if embedded.shape[0] > SENTENCE_LENGTH_LIMIT:\n",
    "        embedded = embedded[:SENTENCE_LENGTH_LIMIT]\n",
    "\n",
    "    padded = np.zeros((SENTENCE_LENGTH_LIMIT, 300))\n",
    "    padded[SENTENCE_LENGTH_LIMIT - embedded.shape[0]:, :] = embedded\n",
    "\n",
    "    simulated = homomorphic_inferer.simulate(padded)[0]\n",
    "    if simulated < 0.5:\n",
    "        predicted_sentiment_simulated = 1\n",
    "    else:\n",
    "        predicted_sentiment_simulated = 5\n",
    "    \n",
    "    start = timeit.default_timer()\n",
    "    original = model(torch.tensor(padded.reshape((-1, 1, 300))).float()).detach().numpy()[0, 0, 0]\n",
    "    end = timeit.default_timer()\n",
    "    \n",
    "    if original < 0.5:\n",
    "        predicted_sentiment_original = 1\n",
    "    else:\n",
    "        predicted_sentiment_original = 5\n",
    "    \n",
    "    if predicted_sentiment_simulated == 1:\n",
    "        if actual_rating in [1, 2, 3]:\n",
    "            prediction_stats_simulated[0] += 1  \n",
    "        else:\n",
    "            prediction_stats_simulated[1] += 1  \n",
    "    else:\n",
    "        if actual_rating in [4, 5]:\n",
    "            prediction_stats_simulated[2] += 1  \n",
    "        else:\n",
    "            prediction_stats_simulated[3] += 1 \n",
    "    \n",
    "    if predicted_sentiment_original == 1:\n",
    "        if actual_rating in [1, 2, 3]:\n",
    "            prediction_stats_original[0] += 1 \n",
    "        else:\n",
    "            prediction_stats_original[1] += 1  \n",
    "    else:\n",
    "        if actual_rating in [4, 5]:\n",
    "            prediction_stats_original[2] += 1  \n",
    "        else:\n",
    "            prediction_stats_original[3] += 1  \n",
    "    \n",
    "    difference_total += np.abs(original - simulated) * 100\n",
    "    time_total += end - start\n",
    "        \n",
    "for index, row in restaurant_reviews_df.head(2000).iterrows():\n",
    "    text = row['Review']\n",
    "    actual_rating = int(row['Rating'])\n",
    "    \n",
    "    evaluate(text, actual_rating)\n",
    "\n",
    "accuracy_rate_simulated = (prediction_stats_simulated[0] + prediction_stats_simulated[2]) / sum(prediction_stats_simulated)\n",
    "accuracy_rate_original = (prediction_stats_original[0] + prediction_stats_original[2]) / sum(prediction_stats_original)\n",
    "\n",
    "print(f\"Accuracy rate for Simulated Model: {accuracy_rate_simulated * 100:.2f}%\")\n",
    "print(f\"Accuracy rate for Original Model: {accuracy_rate_original * 100:.2f}%\")\n",
    "\n",
    "conf_matrix_simulated = np.array([[prediction_stats_simulated[0], prediction_stats_simulated[1]],\n",
    "                                  [prediction_stats_simulated[3], prediction_stats_simulated[2]]])\n",
    "\n",
    "conf_matrix_original = np.array([[prediction_stats_original[0], prediction_stats_original[1]],\n",
    "                                  [prediction_stats_original[3], prediction_stats_original[2]]])\n",
    "\n",
    "plt.figure(figsize=(6, 4))\n",
    "plt.imshow(conf_matrix_simulated, interpolation='nearest', cmap=plt.cm.Blues)\n",
    "plt.title('Confusion Matrix for FHE Model')\n",
    "plt.colorbar()\n",
    "tick_marks = np.arange(2)\n",
    "plt.xticks(tick_marks, ['Predicted Negative', 'Predicted Positive'], rotation=45)\n",
    "plt.yticks(tick_marks, ['Actual Negative', 'Actual Positive'])\n",
    "plt.tight_layout()\n",
    "\n",
    "thresh = conf_matrix_simulated.max() / 2.\n",
    "for i, j in itertools.product(range(conf_matrix_simulated.shape[0]), range(conf_matrix_simulated.shape[1])):\n",
    "    plt.text(j, i, format(conf_matrix_simulated[i, j], 'd'), horizontalalignment=\"center\", color=\"white\" if conf_matrix_simulated[i, j] > thresh else \"black\")\n",
    "\n",
    "plt.figure(figsize=(6, 4))\n",
    "plt.imshow(conf_matrix_original, interpolation='nearest', cmap=plt.cm.Blues)\n",
    "plt.title('Confusion Matrix for Original Model')\n",
    "plt.colorbar()\n",
    "tick_marks = np.arange(2)\n",
    "plt.xticks(tick_marks, ['Predicted Negative', 'Predicted Positive'], rotation=45)\n",
    "plt.yticks(tick_marks, ['Actual Negative', 'Actual Positive'])\n",
    "plt.tight_layout()\n",
    "\n",
    "thresh = conf_matrix_original.max() / 2.\n",
    "for i, j in itertools.product(range(conf_matrix_original.shape[0]), range(conf_matrix_original.shape[1])):\n",
    "    plt.text(j, i, format(conf_matrix_original[i, j], 'd'), horizontalalignment=\"center\", color=\"white\" if conf_matrix_original[i, j] > thresh else \"black\")\n",
    "\n",
    "plt.show()\n"
   ]
  },
  {
   "cell_type": "code",
   "execution_count": 32,
   "id": "bd6a56a9",
   "metadata": {},
   "outputs": [],
   "source": [
    "def time_evaluate(sentence):\n",
    "    try:\n",
    "        embedded = encode(sentence)\n",
    "    except KeyError as error:\n",
    "        print(\"! the word\", error, \"is unknown\")\n",
    "        return\n",
    "\n",
    "    if embedded.shape[0] > SENTENCE_LENGTH_LIMIT:\n",
    "        print(f\"! the sentence should not contain more than {SENTENCE_LENGTH_LIMIT} tokens\")\n",
    "        return\n",
    "\n",
    "    padded = np.zeros((SENTENCE_LENGTH_LIMIT, 300))\n",
    "    padded[SENTENCE_LENGTH_LIMIT - embedded.shape[0]:, :] = embedded\n",
    "\n",
    "    start_original = timeit.default_timer()\n",
    "    original = model(torch.tensor(padded.reshape((-1, 1, 300))).float()).detach().numpy()[0, 0, 0]\n",
    "    end_original = timeit.default_timer()\n",
    "\n",
    "    start_simulated = timeit.default_timer()\n",
    "    simulated = homomorphic_inferer.simulate(padded)[0]\n",
    "    end_simulated = timeit.default_timer()\n",
    "\n",
    "    start_actual = timeit.default_timer()\n",
    "    actual = homomorphic_inferer.simulate(padded)[0]\n",
    "    end_actual = timeit.default_timer()\n",
    "\n",
    "    if actual < 0.35:\n",
    "        print(\"- the sentence was negative\", end=' ')\n",
    "    elif actual > 0.65:\n",
    "        print(\"+ the sentence was positive\", end=' ')\n",
    "    else:\n",
    "        print(\"~ the sentence was neutral\", end=' ')\n",
    "\n",
    "    print(\n",
    "        f\"(\"\n",
    "        f\"original: {original * 100:.2f}%, \"\n",
    "        f\"simulated: {simulated * 100:.2f}%, \"\n",
    "        f\"actual: {actual * 100:.2f}%, \"\n",
    "        f\"difference: {np.abs(original - actual) * 100:.2f}%, \"\n",
    "        f\"original inference time: {end_original - start_original:.3f} seconds, \"\n",
    "        f\"simulated inference time: {end_simulated - start_simulated:.3f} seconds, \"\n",
    "        f\"actual inference time: {end_actual - start_actual:.3f} seconds\"\n",
    "        f\")\"\n",
    "    )\n"
   ]
  },
  {
   "cell_type": "code",
   "execution_count": 30,
   "id": "4228bbd3",
   "metadata": {},
   "outputs": [
    {
     "name": "stdout",
     "output_type": "stream",
     "text": [
      "+ the sentence was positive (original: 79.08%, simulated: 81.00%, actual: 81.00%, difference: 1.92%, original inference time: 0.001 seconds, simulated inference time: 0.003 seconds, actual inference time: 0.002 seconds)\n"
     ]
    }
   ],
   "source": [
    "time_evaluate(\"I am happy.\")"
   ]
  },
  {
   "cell_type": "code",
   "execution_count": null,
   "id": "390e5806",
   "metadata": {},
   "outputs": [],
   "source": []
  }
 ],
 "metadata": {
  "kernelspec": {
   "display_name": "Python 3 (ipykernel)",
   "language": "python",
   "name": "python3"
  },
  "language_info": {
   "codemirror_mode": {
    "name": "ipython",
    "version": 3
   },
   "file_extension": ".py",
   "mimetype": "text/x-python",
   "name": "python",
   "nbconvert_exporter": "python",
   "pygments_lexer": "ipython3",
   "version": "3.8.10"
  }
 },
 "nbformat": 4,
 "nbformat_minor": 5
}
